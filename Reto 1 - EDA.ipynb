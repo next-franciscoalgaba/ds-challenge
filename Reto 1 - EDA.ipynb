{
 "cells": [
  {
   "cell_type": "markdown",
   "metadata": {
    "colab": {
     "base_uri": "https://localhost:8080/",
     "height": 34
    },
    "colab_type": "code",
    "id": "ueEfoyfhNtUK",
    "outputId": "c945acc8-f25c-41be-b17a-605b55954541"
   },
   "source": [
    "# Reto de iniciación a Data Science!\n",
    "\n",
    "Bienvenido a este primer reto inicial para ir adentrándose al mundo de la ciencia de datos. En esta serie de retos iremos profundizando en los contenidos fundamentales que un Data Scientist debe conocer y guiarte en este apasionante camino. ¿Suena divertido verdad?\n",
    "\n",
    "Como primer reto veremos el concepto de EDA (Exploratory Data Analysis) que es el primer paso que debe realizar un Data Scientist para conocer la naturaleza de sus datos y prepararlos para que sean usados por un modelo. En este caso usaremos un dataset con movimientos bancarios y el objetivo sería predecir movimientos fraudulentos. Para conocer más detalles sobre el dataset dirígete al siguiente [enlace](https://www.kaggle.com/ntnu-testimon/paysim1)\n",
    "\n",
    "No te entretendremos más y manos a la obra!"
   ]
  },
  {
   "cell_type": "markdown",
   "metadata": {},
   "source": [
    "## Primeros pasos\n",
    "\n",
    "Lo primero que tenemos que hacer para analizar nuestros datos es cargar el dataset en el entorno y echaremos un vistazo a ver que forma tienen nuestros datos.\n",
    "\n",
    "Para manejar el dataset, transformarlo y cualquier tipo de operación que hagamos sobre él utilizaremos una librería llamada Pandas. Dejamos aquí el [enlace](https://pandas.pydata.org/) a su documentación para los curiosos."
   ]
  },
  {
   "cell_type": "code",
   "execution_count": 1,
   "metadata": {},
   "outputs": [],
   "source": [
    "# Importamos las librerías que vayamos a usar\n",
    "import pandas as pd\n",
    "import numpy as np"
   ]
  },
  {
   "cell_type": "code",
   "execution_count": 2,
   "metadata": {
    "colab": {},
    "colab_type": "code",
    "id": "Xgnmxfc3N4qU"
   },
   "outputs": [],
   "source": [
    "# Definimos la ruta donde tenemos nuestro dataset\n",
    "filename = 'FraudDetection_synthetic.csv'\n",
    "\n",
    "# Al tratarse un fichero CSV lo cargamos con la funcion read_csv de pandas facilitando la ruta del archivo\n",
    "data = pd.read_csv(filename)"
   ]
  },
  {
   "cell_type": "code",
   "execution_count": 3,
   "metadata": {
    "colab": {
     "base_uri": "https://localhost:8080/",
     "height": 204
    },
    "colab_type": "code",
    "id": "a-k-Su17P8dc",
    "outputId": "51289769-e89c-4bf7-aa34-daa8763c2b82"
   },
   "outputs": [
    {
     "data": {
      "text/html": [
       "<div>\n",
       "<style scoped>\n",
       "    .dataframe tbody tr th:only-of-type {\n",
       "        vertical-align: middle;\n",
       "    }\n",
       "\n",
       "    .dataframe tbody tr th {\n",
       "        vertical-align: top;\n",
       "    }\n",
       "\n",
       "    .dataframe thead th {\n",
       "        text-align: right;\n",
       "    }\n",
       "</style>\n",
       "<table border=\"1\" class=\"dataframe\">\n",
       "  <thead>\n",
       "    <tr style=\"text-align: right;\">\n",
       "      <th></th>\n",
       "      <th>step</th>\n",
       "      <th>type</th>\n",
       "      <th>amount</th>\n",
       "      <th>nameOrig</th>\n",
       "      <th>oldbalanceOrg</th>\n",
       "      <th>newbalanceOrig</th>\n",
       "      <th>nameDest</th>\n",
       "      <th>oldbalanceDest</th>\n",
       "      <th>newbalanceDest</th>\n",
       "      <th>isFraud</th>\n",
       "      <th>isFlaggedFraud</th>\n",
       "    </tr>\n",
       "  </thead>\n",
       "  <tbody>\n",
       "    <tr>\n",
       "      <th>0</th>\n",
       "      <td>1</td>\n",
       "      <td>PAYMENT</td>\n",
       "      <td>9839.64</td>\n",
       "      <td>C1231006815</td>\n",
       "      <td>170136.0</td>\n",
       "      <td>160296.36</td>\n",
       "      <td>M1979787155</td>\n",
       "      <td>0.0</td>\n",
       "      <td>0.0</td>\n",
       "      <td>0</td>\n",
       "      <td>0</td>\n",
       "    </tr>\n",
       "    <tr>\n",
       "      <th>1</th>\n",
       "      <td>1</td>\n",
       "      <td>PAYMENT</td>\n",
       "      <td>1864.28</td>\n",
       "      <td>C1666544295</td>\n",
       "      <td>21249.0</td>\n",
       "      <td>19384.72</td>\n",
       "      <td>M2044282225</td>\n",
       "      <td>0.0</td>\n",
       "      <td>0.0</td>\n",
       "      <td>0</td>\n",
       "      <td>0</td>\n",
       "    </tr>\n",
       "    <tr>\n",
       "      <th>2</th>\n",
       "      <td>1</td>\n",
       "      <td>TRANSFER</td>\n",
       "      <td>181.00</td>\n",
       "      <td>C1305486145</td>\n",
       "      <td>181.0</td>\n",
       "      <td>0.00</td>\n",
       "      <td>C553264065</td>\n",
       "      <td>0.0</td>\n",
       "      <td>0.0</td>\n",
       "      <td>1</td>\n",
       "      <td>0</td>\n",
       "    </tr>\n",
       "    <tr>\n",
       "      <th>3</th>\n",
       "      <td>1</td>\n",
       "      <td>CASH_OUT</td>\n",
       "      <td>181.00</td>\n",
       "      <td>C840083671</td>\n",
       "      <td>181.0</td>\n",
       "      <td>0.00</td>\n",
       "      <td>C38997010</td>\n",
       "      <td>21182.0</td>\n",
       "      <td>0.0</td>\n",
       "      <td>1</td>\n",
       "      <td>0</td>\n",
       "    </tr>\n",
       "    <tr>\n",
       "      <th>4</th>\n",
       "      <td>1</td>\n",
       "      <td>PAYMENT</td>\n",
       "      <td>11668.14</td>\n",
       "      <td>C2048537720</td>\n",
       "      <td>41554.0</td>\n",
       "      <td>29885.86</td>\n",
       "      <td>M1230701703</td>\n",
       "      <td>0.0</td>\n",
       "      <td>0.0</td>\n",
       "      <td>0</td>\n",
       "      <td>0</td>\n",
       "    </tr>\n",
       "  </tbody>\n",
       "</table>\n",
       "</div>"
      ],
      "text/plain": [
       "   step      type    amount     nameOrig  oldbalanceOrg  newbalanceOrig  \\\n",
       "0     1   PAYMENT   9839.64  C1231006815       170136.0       160296.36   \n",
       "1     1   PAYMENT   1864.28  C1666544295        21249.0        19384.72   \n",
       "2     1  TRANSFER    181.00  C1305486145          181.0            0.00   \n",
       "3     1  CASH_OUT    181.00   C840083671          181.0            0.00   \n",
       "4     1   PAYMENT  11668.14  C2048537720        41554.0        29885.86   \n",
       "\n",
       "      nameDest  oldbalanceDest  newbalanceDest  isFraud  isFlaggedFraud  \n",
       "0  M1979787155             0.0             0.0        0               0  \n",
       "1  M2044282225             0.0             0.0        0               0  \n",
       "2   C553264065             0.0             0.0        1               0  \n",
       "3    C38997010         21182.0             0.0        1               0  \n",
       "4  M1230701703             0.0             0.0        0               0  "
      ]
     },
     "execution_count": 3,
     "metadata": {},
     "output_type": "execute_result"
    }
   ],
   "source": [
    "# Ya tenemos nuestro dataset en la variable data, \n",
    "# usando la funcion head() de pandas podemos echar un vistazo a las primeras columnas\n",
    "data.head()"
   ]
  },
  {
   "cell_type": "markdown",
   "metadata": {},
   "source": [
    "## Exploración de los datos\n",
    "\n",
    "Ahora que ya hemos cargado nuestros datos, echado un vistazo incial sobre ellos... ¡es hora de analizarlos!\n",
    "\n",
    "En este primer análisis que proponemos veremos si hay algún tipo de relación entre un tipo de movimiento, en este caso las transferencias y la cantidad de dinero tranferida y ver su proporción de operaciones fraudulentas."
   ]
  },
  {
   "cell_type": "markdown",
   "metadata": {
    "colab_type": "text",
    "id": "YPMX-STxbeYq"
   },
   "source": [
    "Lo primero que vamos a hacer es sacar el número de movimientos por tipo de moviemiento. Como podemos ver arriba, nuestro dataset tiene una columna llamada `type` que nos indica que tipo de movimiento es. A continuación seleccionaremos esta columna y haremos un conteo de los diferentes tipos usando la funcion `value_counts()` de pandas."
   ]
  },
  {
   "cell_type": "code",
   "execution_count": 4,
   "metadata": {
    "colab": {
     "base_uri": "https://localhost:8080/",
     "height": 119
    },
    "colab_type": "code",
    "id": "5sRd0WBTWnQ9",
    "outputId": "d2b372b8-a53e-49f5-d417-3d33304709fb"
   },
   "outputs": [
    {
     "data": {
      "text/plain": [
       "CASH_OUT    2237500\n",
       "PAYMENT     2151495\n",
       "CASH_IN     1399284\n",
       "TRANSFER     532909\n",
       "DEBIT         41432\n",
       "Name: type, dtype: int64"
      ]
     },
     "execution_count": 4,
     "metadata": {},
     "output_type": "execute_result"
    }
   ],
   "source": [
    "data['type'].value_counts()"
   ]
  },
  {
   "cell_type": "markdown",
   "metadata": {
    "colab_type": "text",
    "id": "Ish-HHFbbv8V"
   },
   "source": [
    "Una vez hemos visto que tenemos un número considerable de muestras de transferencia de cara a poder sacar una hipótesis, vamos a coger todos los movimientos del tipo `TRANSFER` de nuestro dataset."
   ]
  },
  {
   "cell_type": "code",
   "execution_count": 5,
   "metadata": {
    "colab": {},
    "colab_type": "code",
    "id": "FhhDQTDJZU7P"
   },
   "outputs": [],
   "source": [
    "all_tranfers = data.loc[data['type'] == 'TRANSFER']"
   ]
  },
  {
   "cell_type": "markdown",
   "metadata": {
    "colab_type": "text",
    "id": "KMon9FpDcLKM"
   },
   "source": [
    "Ahora vamos a ver la proporción de transferencias que son fraudulentas"
   ]
  },
  {
   "cell_type": "code",
   "execution_count": 6,
   "metadata": {
    "colab": {
     "base_uri": "https://localhost:8080/",
     "height": 68
    },
    "colab_type": "code",
    "id": "uYsApECfaEzs",
    "outputId": "38ba6a26-b2b5-49aa-e4f7-221c404e7136"
   },
   "outputs": [
    {
     "name": "stdout",
     "output_type": "stream",
     "text": [
      "Un 0.77% de las tranferencias son fraudulentas\n"
     ]
    }
   ],
   "source": [
    "isFraud = all_tranfers['isFraud'].value_counts()\n",
    "print('Un {0:.2f}% de las tranferencias son fraudulentas'.format(100 * isFraud[1]/np.sum(isFraud)))"
   ]
  },
  {
   "cell_type": "markdown",
   "metadata": {
    "colab_type": "text",
    "id": "4nw6U31qcR6Y"
   },
   "source": [
    "Vemos que solo un 0.77% de todas las transferencias son fraudulentas. Vamos a separarlas del dataset par analizarlas más en detalle"
   ]
  },
  {
   "cell_type": "code",
   "execution_count": 7,
   "metadata": {
    "colab": {},
    "colab_type": "code",
    "id": "8kJebFlFaTCv"
   },
   "outputs": [],
   "source": [
    "no_fraud_transfer = data.loc[data['isFraud'] == 0]\n",
    "fraud_transfer = data.loc[data['isFraud'] == 1]"
   ]
  },
  {
   "cell_type": "markdown",
   "metadata": {
    "colab_type": "text",
    "id": "WMEqRVg4cWeD"
   },
   "source": [
    "Como primer análisis vamos a estudiar si hay algún tipo de conexión en la cantidad de dinero que se transfiere"
   ]
  },
  {
   "cell_type": "code",
   "execution_count": 8,
   "metadata": {
    "colab": {},
    "colab_type": "code",
    "id": "VBiEImQvakbo"
   },
   "outputs": [],
   "source": [
    "# Cogemos la cantidad media de dinero transferido en transferencias no fraudulentas\n",
    "mean_no_fraud_amount = no_fraud_transfer['amount'].mean()"
   ]
  },
  {
   "cell_type": "code",
   "execution_count": 9,
   "metadata": {
    "colab": {},
    "colab_type": "code",
    "id": "tECASfJba0QG"
   },
   "outputs": [],
   "source": [
    "# Cogemos la cantidad media de dinero transferido en transferencias fraudulentas\n",
    "mean_fraud_amount = fraud_transfer['amount'].mean()"
   ]
  },
  {
   "cell_type": "code",
   "execution_count": 10,
   "metadata": {
    "colab": {
     "base_uri": "https://localhost:8080/",
     "height": 34
    },
    "colab_type": "code",
    "id": "wVn1Zk0ka4A4",
    "outputId": "65575c9a-633f-4df4-91d1-b4414decbe88"
   },
   "outputs": [
    {
     "name": "stdout",
     "output_type": "stream",
     "text": [
      "La diferencia media de cantidad transferida en operaciones fraudulentas es: 1467967.30\n"
     ]
    }
   ],
   "source": [
    "# Obtenemos la diferencia entre ambas medias\n",
    "mean_fraud_amount - mean_no_fraud_amount\n",
    "print('La diferencia media de cantidad transferida en operaciones fraudulentas es: {0:.2f}'.format(mean_fraud_amount))"
   ]
  },
  {
   "cell_type": "markdown",
   "metadata": {
    "colab_type": "text",
    "id": "DaC3uuI-ckGk"
   },
   "source": [
    "Se observa que la cantidad de dinero transferida en operaciones fraudulentas es muy superior que en operaciones que no lo son por lo que grandes movimientos de dinero pueden ser un patrón a tener muy en cuenta a la hora de predecir movimientos sospechosos de dinero."
   ]
  },
  {
   "cell_type": "markdown",
   "metadata": {
    "colab_type": "text",
    "id": "5FqtZQhrdE2i"
   },
   "source": [
    "## ¡Ahora es tu turno!\n",
    "\n",
    "Ahora que ya conoces las operaciones esenciales al trabajar con el dataset, analiza otro tipo de operación y busca algún tipo de patrón que pueda indicar que pueda ser fraudulento. \n",
    "\n",
    "Una vez hayas terminado con tu análisis haznoslo saber a través de..."
   ]
  },
  {
   "cell_type": "code",
   "execution_count": 11,
   "metadata": {},
   "outputs": [],
   "source": [
    "# Your code here"
   ]
  }
 ],
 "metadata": {
  "colab": {
   "name": "Copia de Mini Reto 1: EDA fraudulento.ipynb",
   "provenance": []
  },
  "kernelspec": {
   "display_name": "Python 3",
   "language": "python",
   "name": "python3"
  },
  "language_info": {
   "codemirror_mode": {
    "name": "ipython",
    "version": 3
   },
   "file_extension": ".py",
   "mimetype": "text/x-python",
   "name": "python",
   "nbconvert_exporter": "python",
   "pygments_lexer": "ipython3",
   "version": "3.6.5"
  }
 },
 "nbformat": 4,
 "nbformat_minor": 1
}
